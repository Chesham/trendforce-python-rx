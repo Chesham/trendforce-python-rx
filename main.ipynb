{
 "cells": [
  {
   "cell_type": "markdown",
   "metadata": {},
   "source": [
    "# Initialization"
   ]
  },
  {
   "cell_type": "code",
   "execution_count": 1,
   "metadata": {},
   "outputs": [],
   "source": [
    "import logging, rx\n",
    "from rx import operators\n",
    "from threading import current_thread, Lock, Condition\n",
    "from datetime import datetime\n",
    "\n",
    "logger = logging.getLogger()\n",
    "logger.addHandler(logging.StreamHandler())\n",
    "logger.setLevel(logging.DEBUG)\n",
    "\n",
    "def logWithTime(msg):\n",
    "    logger.info(f'{datetime.now().strftime(\"%H:%M:%S.%f\")} [{current_thread().ident:05d}] {msg}')"
   ]
  },
  {
   "cell_type": "markdown",
   "metadata": {},
   "source": [
    "# Create observable functions"
   ]
  },
  {
   "cell_type": "code",
   "execution_count": 2,
   "metadata": {},
   "outputs": [],
   "source": [
    "def sequenceInTime(period, elapsed, frequency):\n",
    "    observable = rx.interval(period).pipe(\n",
    "        operators.take_with_time(elapsed),\n",
    "        operators.window(rx.interval(frequency)),\n",
    "    )\n",
    "    return observable"
   ]
  },
  {
   "cell_type": "markdown",
   "metadata": {},
   "source": [
    "# Subscribe and operate"
   ]
  },
  {
   "cell_type": "code",
   "execution_count": 3,
   "metadata": {},
   "outputs": [
    {
     "name": "stderr",
     "output_type": "stream",
     "text": [
      "17:31:40.369006 [04884] start receiving from stream ...\n",
      "17:31:41.370494 [08016] window#0: [64] (0 .. 63)\n",
      "17:31:42.375466 [10300] window#1: [60] (64 .. 123)\n",
      "17:31:43.388416 [18396] window#2: [65] (124 .. 188)\n",
      "17:31:44.398473 [14248] window#3: [65] (189 .. 253)\n",
      "17:31:45.369490 [15016] window#4: [55] (254 .. 308)\n",
      "17:31:45.372490 [15016] ... stream completed\n",
      "17:31:45.374490 [04884] total received 309 ticks\n",
      "17:31:45.374490 [04884] exit, 0:00:05.005484 elapsed\n"
     ]
    }
   ],
   "source": [
    "cv = Condition()\n",
    "windowLock = Lock()\n",
    "windowCount = 0\n",
    "windows = []\n",
    "\n",
    "def onWindow(observable):\n",
    "    global windowLock\n",
    "    windowItems = []\n",
    "    def onItem(i):\n",
    "        nonlocal windowItems\n",
    "        windowLock.acquire()\n",
    "        windowItems.append(i)\n",
    "        windowLock.release()\n",
    "    def onItemCompleted():\n",
    "        global windowCount, windows\n",
    "        nonlocal windowItems\n",
    "        windowLock.acquire()\n",
    "        logWithTime(f'window#{windowCount}: [{len(windowItems)}]{f\" ({windowItems[0]} .. {windowItems[-1]})\" if len(windowItems) > 0 else \"\"}')\n",
    "        windows += windowItems\n",
    "        windowCount += 1\n",
    "        windowLock.release()\n",
    "    observable.subscribe(\n",
    "        on_next=onItem,\n",
    "        on_completed=onItemCompleted,\n",
    "    )\n",
    "\n",
    "def onCompleted():\n",
    "    global cv\n",
    "    logWithTime(f'... stream completed')\n",
    "    cv.acquire()\n",
    "    cv.notify()\n",
    "    cv.release()\n",
    "\n",
    "cv.acquire()\n",
    "period = .01\n",
    "elapsed = 5\n",
    "frequency = 1\n",
    "observable = sequenceInTime(period, elapsed, frequency)\n",
    "with observable.subscribe(\n",
    "    on_next=onWindow,\n",
    "    on_completed=onCompleted,\n",
    ") as subscriber:\n",
    "    startAt = datetime.now()\n",
    "    logWithTime(f'start receiving from stream ...')\n",
    "    if not cv.wait(elapsed + 1):\n",
    "        logWithTime(f'timeout')\n",
    "    logWithTime(f'total received {len(windows)} ticks')\n",
    "    logWithTime(f'exit, {datetime.now() - startAt} elapsed')\n",
    "cv.release()"
   ]
  }
 ],
 "metadata": {
  "interpreter": {
   "hash": "14f57fcf17c8460db6e5a7534c1789353ab25b923b0e3be4215d6aa91cf53d98"
  },
  "kernelspec": {
   "display_name": "Python 3.7.9 64-bit",
   "language": "python",
   "name": "python3"
  },
  "language_info": {
   "codemirror_mode": {
    "name": "ipython",
    "version": 3
   },
   "file_extension": ".py",
   "mimetype": "text/x-python",
   "name": "python",
   "nbconvert_exporter": "python",
   "pygments_lexer": "ipython3",
   "version": "3.7.9"
  },
  "orig_nbformat": 4
 },
 "nbformat": 4,
 "nbformat_minor": 2
}
