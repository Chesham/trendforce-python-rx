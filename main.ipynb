{
 "cells": [
  {
   "cell_type": "markdown",
   "metadata": {},
   "source": [
    "# Initialization"
   ]
  },
  {
   "cell_type": "code",
   "execution_count": 2,
   "metadata": {},
   "outputs": [],
   "source": [
    "import logging, rx\n",
    "from rx import operators\n",
    "from rx.subject import Subject\n",
    "from threading import current_thread, Lock, Condition\n",
    "from datetime import datetime, timedelta\n",
    "from typing import Callable, Any, List\n",
    "\n",
    "logger = logging.getLogger()\n",
    "logger.addHandler(logging.StreamHandler())\n",
    "logger.setLevel(logging.DEBUG)\n",
    "\n",
    "def logWithTime(msg):\n",
    "    logger.info(f'{datetime.now().strftime(\"%H:%M:%S.%f\")} [{current_thread().ident:05d}] {msg}')"
   ]
  },
  {
   "cell_type": "markdown",
   "metadata": {},
   "source": [
    "# Create observable functions"
   ]
  },
  {
   "cell_type": "code",
   "execution_count": 18,
   "metadata": {},
   "outputs": [],
   "source": [
    "def sequenceInTime(period, elapsed) -> rx.Observable:\n",
    "    observable = rx.interval(period).pipe(\n",
    "        operators.map(lambda x: {\n",
    "            'idx': x,\n",
    "            'ts': datetime.now()\n",
    "            }),\n",
    "        operators.take_with_time(elapsed),\n",
    "        # operators.observe_on(rx.scheduler.ThreadPoolScheduler(1)),\n",
    "    )\n",
    "    return observable"
   ]
  },
  {
   "cell_type": "markdown",
   "metadata": {},
   "source": [
    "# Subscribe and operate"
   ]
  },
  {
   "cell_type": "code",
   "execution_count": 75,
   "metadata": {},
   "outputs": [
    {
     "name": "stderr",
     "output_type": "stream",
     "text": [
      "21:41:30.583874 [12428] receive ticks from 2022-03-12 21:41:30 and every 0:00:01 apart\n",
      "21:41:40.602453 [09508] stream completed\n",
      "21:41:40.606453 [12428] group '30': [  235] (    0)21:41:30.591873 .. (  234)21:41:30.998868\n",
      "21:41:40.607469 [12428] group '31': [  595] (  235)21:41:31.001872 .. (  829)21:41:31.998950\n",
      "21:41:40.607469 [12428] group '32': [  606] (  830)21:41:32.000950 .. ( 1435)21:41:32.998247\n",
      "21:41:40.609469 [12428] group '33': [  598] ( 1436)21:41:33.000247 .. ( 2033)21:41:33.998324\n",
      "21:41:40.610455 [12428] group '34': [  602] ( 2034)21:41:34.001322 .. ( 2635)21:41:34.998390\n",
      "21:41:40.611455 [12428] group '35': [  620] ( 2636)21:41:35.000391 .. ( 3255)21:41:35.999390\n",
      "21:41:40.612470 [12428] group '36': [  621] ( 3256)21:41:36.001392 .. ( 3876)21:41:36.999371\n",
      "21:41:40.613465 [12428] group '37': [  608] ( 3877)21:41:37.000372 .. ( 4484)21:41:37.999419\n",
      "21:41:40.615453 [12428] group '38': [  641] ( 4485)21:41:38.001420 .. ( 5125)21:41:38.998419\n",
      "21:41:40.616454 [12428] group '39': [  632] ( 5126)21:41:39.000420 .. ( 5757)21:41:39.999452\n",
      "21:41:40.617454 [12428] group '40': [  380] ( 5758)21:41:40.000455 .. ( 6137)21:41:40.600454\n",
      "21:41:40.619454 [12428] received 6138 ticks totally, in 11 windows\n",
      "21:41:40.620455 [12428] 0:00:10.037580 elapsed\n"
     ]
    }
   ],
   "source": [
    "period = timedelta(seconds=.00)\n",
    "elapsed = timedelta(seconds=10)\n",
    "frequency = timedelta(seconds=1)\n",
    "now = datetime.now()\n",
    "startAt = datetime(year=now.year, month=now.month, day=now.day, hour=now.hour, minute=now.minute, second=now.second)\n",
    "boundary = startAt + frequency\n",
    "lastTickTime = None\n",
    "windows = []\n",
    "buffer = []\n",
    "cv = Condition()\n",
    "\n",
    "def onWindow(x):\n",
    "    cv.acquire()\n",
    "    s = f' ({x[0][\"idx\"]}){x[0][\"ts\"]:%H:%M:%S.%f} .. ({x[-1][\"idx\"]}){x[-1][\"ts\"]:%H:%M:%S.%f}' if len(x) > 0 else ''\n",
    "    logWithTime(f'[{len(x)}]{s}')\n",
    "    cv.release()\n",
    "\n",
    "def onNext(x):\n",
    "    global windows, buffer, boundary, frequency, cv\n",
    "    cv.acquire()\n",
    "    ts = x['ts']\n",
    "    if ts < boundary:\n",
    "        buffer.append(x)\n",
    "        cv.release()\n",
    "        return\n",
    "    s = f' ({buffer[0][\"idx\"]:5d}){buffer[0][\"ts\"]:%H:%M:%S.%f} .. ({buffer[-1][\"idx\"]:5d}){buffer[-1][\"ts\"]:%H:%M:%S.%f}' if len(buffer) > 0 else ''\n",
    "    logWithTime(f'[{boundary:%H:%M:%S}] [{len(buffer):5d}]{s}')\n",
    "    windows.append(buffer)\n",
    "    buffer = [x]\n",
    "    boundary += frequency\n",
    "    cv.release()\n",
    "\n",
    "def onCompleted():\n",
    "    cv.acquire()\n",
    "    logWithTime('stream completed')\n",
    "    cv.notify()\n",
    "    cv.release()\n",
    "\n",
    "cv.acquire()\n",
    "logWithTime(f'receive ticks from {startAt} and every {frequency} apart')\n",
    "source = sequenceInTime(period, elapsed)\n",
    "source = source.pipe(\n",
    "    operators.observe_on(rx.scheduler.ThreadPoolScheduler(1)),\n",
    "    # operators.observe_on(rx.scheduler.CurrentThreadScheduler()),\n",
    "    # operators.observe_on(rx.scheduler.NewThreadScheduler()),\n",
    "    operators.group_by(lambda x: x['ts'].second)\n",
    ")\n",
    "\n",
    "groupedTicks = {}\n",
    "\n",
    "def groupFunc(key, x):\n",
    "    global groupedTicks\n",
    "    cv.acquire()\n",
    "    if key in groupedTicks:\n",
    "        groupedTicks[key].append(x)\n",
    "    else:\n",
    "        groupedTicks[key] = [x]\n",
    "    cv.release()\n",
    "\n",
    "with source.subscribe(\n",
    "    on_next=onNext,\n",
    "    # on_next=lambda x: x.subscribe(on_next=lambda y: groupFunc(x.key, y)),\n",
    "    on_completed=onCompleted,\n",
    ") as subscriber:\n",
    "    if not cv.wait((elapsed + timedelta(seconds=1)).total_seconds()):\n",
    "        logWithTime('timeout')\n",
    "    logWithTime(f'received {len([j for i in windows for j in i])} ticks totally, in {len(windows)} windows')\n",
    "    # for k in groupedTicks:\n",
    "    #     g = groupedTicks[k]\n",
    "    #     logWithTime(f'group \\'{k}\\': [{len(g):5d}] ({g[0][\"idx\"]:5d}){g[0][\"ts\"]:%H:%M:%S.%f} .. ({g[-1][\"idx\"]:5d}){g[-1][\"ts\"]:%H:%M:%S.%f}')\n",
    "    # logWithTime(f'received {len([v for k in groupedTicks for v in groupedTicks[k]])} ticks totally, in {len(groupedTicks)} windows')\n",
    "\n",
    "logWithTime(f'{datetime.now() - now} elapsed')\n",
    "cv.release()"
   ]
  },
  {
   "cell_type": "code",
   "execution_count": 4,
   "metadata": {},
   "outputs": [
    {
     "name": "stderr",
     "output_type": "stream",
     "text": [
      "17:57:07.192292 [16144] start receiving from stream ...\n",
      "17:57:08.197290 [06660] window#0: [63] ({'idx': 0, 'ts': datetime.datetime(2022, 3, 12, 17, 57, 7, 214288)} .. {'idx': 62, 'ts': datetime.datetime(2022, 3, 12, 17, 57, 8, 181290)})\n",
      "17:57:09.206632 [12524] window#1: [62] ({'idx': 64, 'ts': datetime.datetime(2022, 3, 12, 17, 57, 8, 213288)} .. {'idx': 125, 'ts': datetime.datetime(2022, 3, 12, 17, 57, 9, 206632)})\n",
      "17:57:10.214631 [12428] window#2: [64] ({'idx': 126, 'ts': datetime.datetime(2022, 3, 12, 17, 57, 9, 221629)} .. {'idx': 189, 'ts': datetime.datetime(2022, 3, 12, 17, 57, 10, 198638)})\n",
      "17:57:11.223624 [07236] window#3: [57] ({'idx': 191, 'ts': datetime.datetime(2022, 3, 12, 17, 57, 10, 230633)} .. {'idx': 247, 'ts': datetime.datetime(2022, 3, 12, 17, 57, 11, 208626)})\n",
      "17:57:12.194632 [17132] window#4: [61] ({'idx': 249, 'ts': datetime.datetime(2022, 3, 12, 17, 57, 11, 238628)} .. {'idx': 309, 'ts': datetime.datetime(2022, 3, 12, 17, 57, 12, 178658)})\n",
      "17:57:12.197622 [17132] ... stream completed\n",
      "17:57:12.198623 [16144] total received 307 ticks\n",
      "17:57:12.199625 [16144] exit, 0:00:05.007333 elapsed\n"
     ]
    }
   ],
   "source": [
    "cv = Condition()\n",
    "windowLock = Lock()\n",
    "windowCount = 0\n",
    "windows = []\n",
    "\n",
    "def onWindow(observable):\n",
    "    global windowLock\n",
    "    windowItems = []\n",
    "    def onItem(i):\n",
    "        nonlocal windowItems\n",
    "        windowLock.acquire()\n",
    "        windowItems.append(i)\n",
    "        windowLock.release()\n",
    "    def onItemCompleted():\n",
    "        global windowCount, windows\n",
    "        nonlocal windowItems\n",
    "        windowLock.acquire()\n",
    "        logWithTime(f'window#{windowCount}: [{len(windowItems)}]{f\" ({windowItems[0]} .. {windowItems[-1]})\" if len(windowItems) > 0 else \"\"}')\n",
    "        windows += windowItems\n",
    "        windowCount += 1\n",
    "        windowLock.release()\n",
    "    observable.subscribe(\n",
    "        on_next=onItem,\n",
    "        on_completed=onItemCompleted,\n",
    "    )\n",
    "\n",
    "def onCompleted():\n",
    "    global cv\n",
    "    logWithTime(f'... stream completed')\n",
    "    cv.acquire()\n",
    "    cv.notify()\n",
    "    cv.release()\n",
    "\n",
    "cv.acquire()\n",
    "period = .01\n",
    "elapsed = 5\n",
    "frequency = 1\n",
    "observable = sequenceInTime(period, elapsed).pipe(\n",
    "    operators.window(rx.interval(frequency)),\n",
    ")\n",
    "with observable.subscribe(\n",
    "    on_next=onWindow,\n",
    "    on_completed=onCompleted,\n",
    ") as subscriber:\n",
    "    startAt = datetime.now()\n",
    "    logWithTime(f'start receiving from stream ...')\n",
    "    if not cv.wait(elapsed + 1):\n",
    "        logWithTime(f'timeout')\n",
    "    logWithTime(f'total received {len(windows)} ticks')\n",
    "    logWithTime(f'exit, {datetime.now() - startAt} elapsed')\n",
    "cv.release()"
   ]
  }
 ],
 "metadata": {
  "interpreter": {
   "hash": "14f57fcf17c8460db6e5a7534c1789353ab25b923b0e3be4215d6aa91cf53d98"
  },
  "kernelspec": {
   "display_name": "Python 3.7.9 64-bit",
   "language": "python",
   "name": "python3"
  },
  "language_info": {
   "codemirror_mode": {
    "name": "ipython",
    "version": 3
   },
   "file_extension": ".py",
   "mimetype": "text/x-python",
   "name": "python",
   "nbconvert_exporter": "python",
   "pygments_lexer": "ipython3",
   "version": "3.7.9"
  },
  "orig_nbformat": 4
 },
 "nbformat": 4,
 "nbformat_minor": 2
}
