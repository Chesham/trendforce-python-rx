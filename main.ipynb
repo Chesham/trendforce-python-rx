{
 "cells": [
  {
   "cell_type": "markdown",
   "metadata": {},
   "source": [
    "# Initialization"
   ]
  },
  {
   "cell_type": "code",
   "execution_count": 2,
   "metadata": {},
   "outputs": [],
   "source": [
    "import logging, rx\n",
    "from rx import operators\n",
    "from rx.subject import Subject\n",
    "from threading import current_thread, Lock, Condition\n",
    "from datetime import datetime, timedelta\n",
    "from typing import Callable, Any, List\n",
    "\n",
    "logger = logging.getLogger()\n",
    "logger.addHandler(logging.StreamHandler())\n",
    "logger.setLevel(logging.DEBUG)\n",
    "\n",
    "def logWithTime(msg):\n",
    "    logger.info(f'{datetime.now().strftime(\"%H:%M:%S.%f\")} [{current_thread().ident:05d}] {msg}')"
   ]
  },
  {
   "cell_type": "markdown",
   "metadata": {},
   "source": [
    "# Create observable functions"
   ]
  },
  {
   "cell_type": "code",
   "execution_count": 18,
   "metadata": {},
   "outputs": [],
   "source": [
    "def sequenceInTime(period, elapsed) -> rx.Observable:\n",
    "    observable = rx.interval(period).pipe(\n",
    "        operators.map(lambda x: {\n",
    "            'idx': x,\n",
    "            'ts': datetime.now()\n",
    "            }),\n",
    "        operators.take_with_time(elapsed),\n",
    "        # operators.observe_on(rx.scheduler.ThreadPoolScheduler(1)),\n",
    "    )\n",
    "    return observable"
   ]
  },
  {
   "cell_type": "markdown",
   "metadata": {},
   "source": [
    "# Subscribe and operate"
   ]
  },
  {
   "cell_type": "code",
   "execution_count": 29,
   "metadata": {},
   "outputs": [
    {
     "name": "stderr",
     "output_type": "stream",
     "text": [
      "18:17:43.842297 [12428] receive ticks from 2022-03-12 18:17:43 and every 0:00:01 apart\n",
      "18:17:44.003304 [03260] [18:17:44] [    9] (    0)18:17:43.864295 .. (    8)18:17:43.988322\n",
      "18:17:45.014282 [03260] [18:17:45] [   65] (    9)18:17:44.003304 .. (   73)18:17:44.998168\n",
      "18:17:46.012397 [03260] [18:17:46] [   64] (   74)18:17:45.014282 .. (  137)18:17:45.996370\n",
      "18:17:47.012820 [03260] [18:17:47] [   64] (  138)18:17:46.012397 .. (  201)18:17:46.996814\n",
      "18:17:48.009364 [03260] [18:17:48] [   63] (  202)18:17:47.012820 .. (  264)18:17:47.993230\n",
      "18:17:49.001493 [03260] [18:17:49] [   61] (  265)18:17:48.009364 .. (  325)18:17:48.985521\n",
      "18:17:50.010842 [03260] [18:17:50] [   65] (  326)18:17:49.001493 .. (  390)18:17:49.995607\n",
      "18:17:51.013590 [03260] [18:17:51] [   63] (  391)18:17:50.010842 .. (  453)18:17:50.998591\n",
      "18:17:52.011729 [03260] [18:17:52] [   64] (  454)18:17:51.013590 .. (  517)18:17:51.995652\n",
      "18:17:53.004147 [03260] [18:17:53] [   63] (  518)18:17:52.011729 .. (  580)18:17:52.989109\n",
      "18:17:53.856355 [03260] stream completed\n",
      "18:17:53.858374 [12428] received 581 ticks totally, in 10 windows\n",
      "18:17:53.859365 [12428] 0:00:10.018067 elapsed\n"
     ]
    }
   ],
   "source": [
    "period = timedelta(seconds=.01)\n",
    "elapsed = timedelta(seconds=10)\n",
    "frequency = timedelta(seconds=1)\n",
    "now = datetime.now()\n",
    "startAt = datetime(year=now.year, month=now.month, day=now.day, hour=now.hour, minute=now.minute, second=now.second)\n",
    "boundary = startAt + frequency\n",
    "lastTickTime = None\n",
    "windows = []\n",
    "buffer = []\n",
    "cv = Condition()\n",
    "\n",
    "def onWindow(x):\n",
    "    cv.acquire()\n",
    "    s = f' ({x[0][\"idx\"]}){x[0][\"ts\"]:%H:%M:%S.%f} .. ({x[-1][\"idx\"]}){x[-1][\"ts\"]:%H:%M:%S.%f}' if len(x) > 0 else ''\n",
    "    logWithTime(f'[{len(x)}]{s}')\n",
    "    cv.release()\n",
    "\n",
    "def onNext(x):\n",
    "    global windows, buffer, boundary, frequency, cv\n",
    "    cv.acquire()\n",
    "    ts = x['ts']\n",
    "    if ts < boundary:\n",
    "        buffer.append(x)\n",
    "        cv.release()\n",
    "        return\n",
    "    s = f' ({buffer[0][\"idx\"]:5d}){buffer[0][\"ts\"]:%H:%M:%S.%f} .. ({buffer[-1][\"idx\"]:5d}){buffer[-1][\"ts\"]:%H:%M:%S.%f}' if len(buffer) > 0 else ''\n",
    "    logWithTime(f'[{boundary:%H:%M:%S}] [{len(buffer):5d}]{s}')\n",
    "    windows.append(buffer)\n",
    "    buffer = [x]\n",
    "    boundary += frequency\n",
    "    cv.release()\n",
    "\n",
    "def onCompleted():\n",
    "    cv.acquire()\n",
    "    logWithTime('stream completed')\n",
    "    cv.notify()\n",
    "    cv.release()\n",
    "\n",
    "cv.acquire()\n",
    "logWithTime(f'receive ticks from {startAt} and every {frequency} apart')\n",
    "source = sequenceInTime(period, elapsed)\n",
    "source = source.pipe(\n",
    "    operators.observe_on(rx.scheduler.ThreadPoolScheduler(1)),\n",
    "    # operators.observe_on(rx.scheduler.CurrentThreadScheduler()),\n",
    "    # operators.observe_on(rx.scheduler.NewThreadScheduler()),\n",
    ")\n",
    "\n",
    "with source.subscribe(\n",
    "    on_next=onNext,\n",
    "    on_completed=onCompleted,\n",
    ") as subscriber:\n",
    "    if not cv.wait((elapsed + timedelta(seconds=1)).total_seconds()):\n",
    "        logWithTime('timeout')\n",
    "    logWithTime(f'received {len([j for i in windows for j in i])} ticks totally, in {len(windows)} windows')\n",
    "\n",
    "logWithTime(f'{datetime.now() - now} elapsed')\n",
    "cv.release()"
   ]
  },
  {
   "cell_type": "code",
   "execution_count": 4,
   "metadata": {},
   "outputs": [
    {
     "name": "stderr",
     "output_type": "stream",
     "text": [
      "17:57:07.192292 [16144] start receiving from stream ...\n",
      "17:57:08.197290 [06660] window#0: [63] ({'idx': 0, 'ts': datetime.datetime(2022, 3, 12, 17, 57, 7, 214288)} .. {'idx': 62, 'ts': datetime.datetime(2022, 3, 12, 17, 57, 8, 181290)})\n",
      "17:57:09.206632 [12524] window#1: [62] ({'idx': 64, 'ts': datetime.datetime(2022, 3, 12, 17, 57, 8, 213288)} .. {'idx': 125, 'ts': datetime.datetime(2022, 3, 12, 17, 57, 9, 206632)})\n",
      "17:57:10.214631 [12428] window#2: [64] ({'idx': 126, 'ts': datetime.datetime(2022, 3, 12, 17, 57, 9, 221629)} .. {'idx': 189, 'ts': datetime.datetime(2022, 3, 12, 17, 57, 10, 198638)})\n",
      "17:57:11.223624 [07236] window#3: [57] ({'idx': 191, 'ts': datetime.datetime(2022, 3, 12, 17, 57, 10, 230633)} .. {'idx': 247, 'ts': datetime.datetime(2022, 3, 12, 17, 57, 11, 208626)})\n",
      "17:57:12.194632 [17132] window#4: [61] ({'idx': 249, 'ts': datetime.datetime(2022, 3, 12, 17, 57, 11, 238628)} .. {'idx': 309, 'ts': datetime.datetime(2022, 3, 12, 17, 57, 12, 178658)})\n",
      "17:57:12.197622 [17132] ... stream completed\n",
      "17:57:12.198623 [16144] total received 307 ticks\n",
      "17:57:12.199625 [16144] exit, 0:00:05.007333 elapsed\n"
     ]
    }
   ],
   "source": [
    "cv = Condition()\n",
    "windowLock = Lock()\n",
    "windowCount = 0\n",
    "windows = []\n",
    "\n",
    "def onWindow(observable):\n",
    "    global windowLock\n",
    "    windowItems = []\n",
    "    def onItem(i):\n",
    "        nonlocal windowItems\n",
    "        windowLock.acquire()\n",
    "        windowItems.append(i)\n",
    "        windowLock.release()\n",
    "    def onItemCompleted():\n",
    "        global windowCount, windows\n",
    "        nonlocal windowItems\n",
    "        windowLock.acquire()\n",
    "        logWithTime(f'window#{windowCount}: [{len(windowItems)}]{f\" ({windowItems[0]} .. {windowItems[-1]})\" if len(windowItems) > 0 else \"\"}')\n",
    "        windows += windowItems\n",
    "        windowCount += 1\n",
    "        windowLock.release()\n",
    "    observable.subscribe(\n",
    "        on_next=onItem,\n",
    "        on_completed=onItemCompleted,\n",
    "    )\n",
    "\n",
    "def onCompleted():\n",
    "    global cv\n",
    "    logWithTime(f'... stream completed')\n",
    "    cv.acquire()\n",
    "    cv.notify()\n",
    "    cv.release()\n",
    "\n",
    "cv.acquire()\n",
    "period = .01\n",
    "elapsed = 5\n",
    "frequency = 1\n",
    "observable = sequenceInTime(period, elapsed).pipe(\n",
    "    operators.window(rx.interval(frequency)),\n",
    ")\n",
    "with observable.subscribe(\n",
    "    on_next=onWindow,\n",
    "    on_completed=onCompleted,\n",
    ") as subscriber:\n",
    "    startAt = datetime.now()\n",
    "    logWithTime(f'start receiving from stream ...')\n",
    "    if not cv.wait(elapsed + 1):\n",
    "        logWithTime(f'timeout')\n",
    "    logWithTime(f'total received {len(windows)} ticks')\n",
    "    logWithTime(f'exit, {datetime.now() - startAt} elapsed')\n",
    "cv.release()"
   ]
  }
 ],
 "metadata": {
  "interpreter": {
   "hash": "14f57fcf17c8460db6e5a7534c1789353ab25b923b0e3be4215d6aa91cf53d98"
  },
  "kernelspec": {
   "display_name": "Python 3.7.9 64-bit",
   "language": "python",
   "name": "python3"
  },
  "language_info": {
   "codemirror_mode": {
    "name": "ipython",
    "version": 3
   },
   "file_extension": ".py",
   "mimetype": "text/x-python",
   "name": "python",
   "nbconvert_exporter": "python",
   "pygments_lexer": "ipython3",
   "version": "3.7.9"
  },
  "orig_nbformat": 4
 },
 "nbformat": 4,
 "nbformat_minor": 2
}
