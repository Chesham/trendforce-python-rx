{
 "cells": [
  {
   "cell_type": "markdown",
   "metadata": {},
   "source": [
    "# Initialization"
   ]
  },
  {
   "cell_type": "code",
   "execution_count": 1,
   "metadata": {},
   "outputs": [],
   "source": [
    "import logging, rx\n",
    "from rx import operators\n",
    "from rx.subject import Subject\n",
    "from threading import current_thread, Lock, Condition\n",
    "from datetime import datetime, timedelta\n",
    "from typing import Callable, Any, List\n",
    "\n",
    "logger = logging.getLogger()\n",
    "logger.addHandler(logging.StreamHandler())\n",
    "logger.setLevel(logging.DEBUG)\n",
    "\n",
    "def logWithTime(msg):\n",
    "    logger.info(f'{datetime.now().strftime(\"%H:%M:%S.%f\")} [{current_thread().ident:05d}] {msg}')"
   ]
  },
  {
   "cell_type": "markdown",
   "metadata": {},
   "source": [
    "# Create observable functions"
   ]
  },
  {
   "cell_type": "code",
   "execution_count": 120,
   "metadata": {},
   "outputs": [],
   "source": [
    "def sequenceInTime(period, elapsed) -> rx.Observable:\n",
    "    observable = rx.interval(period).pipe(\n",
    "        operators.map(lambda x: {\n",
    "            'idx': x,\n",
    "            'ts': datetime.now()\n",
    "            }),\n",
    "        operators.take_with_time(elapsed),\n",
    "        # operators.observe_on(rx.scheduler.ThreadPoolScheduler(1)),\n",
    "    )\n",
    "    return observable"
   ]
  },
  {
   "cell_type": "markdown",
   "metadata": {},
   "source": [
    "# Subscribe and operate"
   ]
  },
  {
   "cell_type": "code",
   "execution_count": 130,
   "metadata": {},
   "outputs": [
    {
     "name": "stderr",
     "output_type": "stream",
     "text": [
      "23:39:32.772528 [15932] start receive ticks\n",
      "23:39:33.785529 [17452] [23:39:32.000000] [  871] (    0)23:39:32.775533 .. (  870)23:39:32.999532\n",
      "23:39:34.016532 [17420] [23:39:33.000000] [ 3895] (  871)23:39:33.000532 .. ( 4765)23:39:33.999531\n",
      "23:39:35.011047 [08892] [23:39:34.000000] [ 3515] ( 4766)23:39:34.000532 .. ( 8280)23:39:34.999046\n",
      "23:39:36.005044 [12784] [23:39:35.000000] [ 2553] ( 8281)23:39:35.000047 .. (10833)23:39:35.999045\n",
      "23:39:37.003045 [17616] [23:39:36.000000] [ 3833] (10834)23:39:36.000046 .. (14666)23:39:36.999046\n",
      "23:39:38.001045 [12620] [23:39:37.000000] [ 3940] (14667)23:39:37.000048 .. (18606)23:39:37.999047\n",
      "23:39:39.014046 [16936] [23:39:38.000000] [ 3916] (18607)23:39:38.000047 .. (22522)23:39:38.999049\n",
      "23:39:40.007046 [12672] [23:39:39.000000] [ 3629] (22523)23:39:39.000048 .. (26151)23:39:39.999045\n",
      "23:39:41.004047 [14044] [23:39:40.000000] [ 3674] (26152)23:39:40.000046 .. (29825)23:39:40.999045\n",
      "23:39:42.015045 [17288] [23:39:41.000000] [ 3723] (29826)23:39:41.000047 .. (33548)23:39:41.999046\n",
      "23:39:42.779048 [17868] [23:39:42.000000] [ 2852] (33549)23:39:42.000046 .. (36400)23:39:42.779048\n",
      "23:39:42.783046 [03508] stream completed\n",
      "23:39:42.789048 [15932] 36401 ticks received totally, in 11 groups\n",
      "23:39:42.791047 [15932] 0:00:10.026518 elapsed\n"
     ]
    }
   ],
   "source": [
    "period = timedelta(seconds=.0)\n",
    "elapsed = timedelta(seconds=10)\n",
    "frequency = timedelta(seconds=1)\n",
    "now = datetime.now()\n",
    "startAt = datetime(year=now.year, month=now.month, day=now.day, hour=now.hour, minute=now.minute, second=now.second)\n",
    "boundary = startAt + frequency\n",
    "lastTickTime = None\n",
    "windows = []\n",
    "buffer = []\n",
    "cv = Condition()\n",
    "scheduler = rx.scheduler.ThreadPoolScheduler(1)\n",
    "groupedTicks = {}\n",
    "\n",
    "def onGroup(observable: rx.core.GroupedObservable):\n",
    "    k = observable.key\n",
    "    g = []\n",
    "    def onGroupExpired():\n",
    "        global groupedTicks, cv\n",
    "        logWithTime(f'[{k:%H:%M:%S.%f}] [{len(g):5d}] ({g[0][\"idx\"]:5d}){g[0][\"ts\"]:%H:%M:%S.%f} .. ({g[-1][\"idx\"]:5d}){g[-1][\"ts\"]:%H:%M:%S.%f}')\n",
    "        cv.acquire()\n",
    "        groupedTicks[k] = g\n",
    "        cv.release()\n",
    "    observable.subscribe(\n",
    "        on_next=lambda x: g.append(x),\n",
    "        on_completed=onGroupExpired\n",
    "    )\n",
    "\n",
    "def onCompleted():\n",
    "    cv.acquire()\n",
    "    logWithTime('stream completed')\n",
    "    cv.notify()\n",
    "    cv.release()\n",
    "\n",
    "logWithTime(f'start receive ticks')\n",
    "with sequenceInTime(period, elapsed).pipe(\n",
    "    operators.group_by_until(\n",
    "        lambda x: datetime(x['ts'].year,\n",
    "        x['ts'].month,\n",
    "        x['ts'].day,\n",
    "        x['ts'].hour,\n",
    "        x['ts'].minute,\n",
    "        x['ts'].second,# - (x['ts'].second % 3)\n",
    "        # (int(f\"{x['ts'].microsecond:06d}\"[0:3]) - (int(f\"{x['ts'].microsecond:06d}\"[0:3]) % 500)) * 1000\n",
    "        ),\n",
    "        None,\n",
    "        lambda g: rx.timer(1)\n",
    "    ),\n",
    "    operators.observe_on(scheduler),\n",
    "    ).subscribe(\n",
    "        on_next=lambda x: onGroup(x),\n",
    "        on_completed=onCompleted,\n",
    "    ) as subscriber:\n",
    "    cv.acquire()\n",
    "    if not cv.wait((elapsed + timedelta(seconds=1)).total_seconds()):\n",
    "        logWithTime('timeout')\n",
    "    logWithTime(f'{len([v for k in groupedTicks for v in groupedTicks[k]])} ticks received totally, in {len(groupedTicks)} groups')\n",
    "\n",
    "logWithTime(f'{datetime.now() - now} elapsed')\n",
    "cv.release()"
   ]
  }
 ],
 "metadata": {
  "interpreter": {
   "hash": "14f57fcf17c8460db6e5a7534c1789353ab25b923b0e3be4215d6aa91cf53d98"
  },
  "kernelspec": {
   "display_name": "Python 3.7.9 64-bit",
   "language": "python",
   "name": "python3"
  },
  "language_info": {
   "codemirror_mode": {
    "name": "ipython",
    "version": 3
   },
   "file_extension": ".py",
   "mimetype": "text/x-python",
   "name": "python",
   "nbconvert_exporter": "python",
   "pygments_lexer": "ipython3",
   "version": "3.7.9"
  },
  "orig_nbformat": 4
 },
 "nbformat": 4,
 "nbformat_minor": 2
}
